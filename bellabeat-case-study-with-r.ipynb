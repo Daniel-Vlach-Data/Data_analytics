{
 "cells": [
  {
   "cell_type": "markdown",
   "id": "9bf228b1",
   "metadata": {
    "papermill": {
     "duration": 0.021013,
     "end_time": "2024-01-24T14:47:44.899549",
     "exception": false,
     "start_time": "2024-01-24T14:47:44.878536",
     "status": "completed"
    },
    "tags": []
   },
   "source": [
    "# About a company\n",
    "\n",
    "Bellabeat, a high-tech manufacturer of health-focused products for women. Bellabeat is a successful small company, but they have the potential to become a larger player in the global smart device market. Urška Sršen, cofounder and Chief Creative Officer of Bellabeat, believes that analyzing smart device fitness data could help unlock new growth opportunities for the company\n",
    "\n",
    "# Questions for the analysis\n",
    "\n",
    "1. What are some trends in smart device usage? \n",
    "2. How could these trends apply to Bellabeat customers? \n",
    "3. How could these trends help influence Bellabeat marketing strategy\n",
    "\n",
    "# Business task\n",
    "\n",
    "Identify potential opportunities for growth and recommendations for the Bellabeat marketing strategy improvement based on trends in smart device usage.\n",
    "\n",
    "# Loading packages\n"
   ]
  },
  {
   "cell_type": "code",
   "execution_count": 1,
   "id": "5f93fe50",
   "metadata": {
    "execution": {
     "iopub.execute_input": "2024-01-24T14:47:44.949907Z",
     "iopub.status.busy": "2024-01-24T14:47:44.946493Z",
     "iopub.status.idle": "2024-01-24T14:47:46.816509Z",
     "shell.execute_reply": "2024-01-24T14:47:46.814988Z"
    },
    "papermill": {
     "duration": 1.894511,
     "end_time": "2024-01-24T14:47:46.816777",
     "exception": false,
     "start_time": "2024-01-24T14:47:44.922266",
     "status": "completed"
    },
    "tags": []
   },
   "outputs": [
    {
     "name": "stderr",
     "output_type": "stream",
     "text": [
      "── \u001b[1mAttaching packages\u001b[22m ─────────────────────────────────────── tidyverse 1.3.0 ──\n",
      "\n",
      "\u001b[32m✔\u001b[39m \u001b[34mggplot2\u001b[39m 3.3.3     \u001b[32m✔\u001b[39m \u001b[34mpurrr  \u001b[39m 0.3.4\n",
      "\u001b[32m✔\u001b[39m \u001b[34mtibble \u001b[39m 3.1.1     \u001b[32m✔\u001b[39m \u001b[34mdplyr  \u001b[39m 1.0.5\n",
      "\u001b[32m✔\u001b[39m \u001b[34mtidyr  \u001b[39m 1.1.3     \u001b[32m✔\u001b[39m \u001b[34mstringr\u001b[39m 1.4.0\n",
      "\u001b[32m✔\u001b[39m \u001b[34mreadr  \u001b[39m 1.4.0     \u001b[32m✔\u001b[39m \u001b[34mforcats\u001b[39m 0.5.0\n",
      "\n",
      "── \u001b[1mConflicts\u001b[22m ────────────────────────────────────────── tidyverse_conflicts() ──\n",
      "\u001b[31m✖\u001b[39m \u001b[34mdplyr\u001b[39m::\u001b[32mfilter()\u001b[39m masks \u001b[34mstats\u001b[39m::filter()\n",
      "\u001b[31m✖\u001b[39m \u001b[34mdplyr\u001b[39m::\u001b[32mlag()\u001b[39m    masks \u001b[34mstats\u001b[39m::lag()\n",
      "\n",
      "\n",
      "Attaching package: ‘magrittr’\n",
      "\n",
      "\n",
      "The following object is masked from ‘package:purrr’:\n",
      "\n",
      "    set_names\n",
      "\n",
      "\n",
      "The following object is masked from ‘package:tidyr’:\n",
      "\n",
      "    extract\n",
      "\n",
      "\n",
      "\n",
      "Attaching package: ‘janitor’\n",
      "\n",
      "\n",
      "The following objects are masked from ‘package:stats’:\n",
      "\n",
      "    chisq.test, fisher.test\n",
      "\n",
      "\n"
     ]
    }
   ],
   "source": [
    "library(tidyverse)\n",
    "library(magrittr) \n",
    "library(skimr)\n",
    "library(janitor)\n",
    "library(ggplot2)\n",
    "library(ggpubr)\n",
    "library(dplyr)"
   ]
  },
  {
   "cell_type": "markdown",
   "id": "1a2b6bbd",
   "metadata": {
    "papermill": {
     "duration": 0.022605,
     "end_time": "2024-01-24T14:47:46.862439",
     "exception": false,
     "start_time": "2024-01-24T14:47:46.839834",
     "status": "completed"
    },
    "tags": []
   },
   "source": [
    "# Importing datasets\n",
    "For this project, I will use FitBit Fitness Tracker [Data](https://www.kaggle.com/arashnic/fitbit)."
   ]
  },
  {
   "cell_type": "code",
   "execution_count": 2,
   "id": "9730b599",
   "metadata": {
    "execution": {
     "iopub.execute_input": "2024-01-24T14:47:46.959673Z",
     "iopub.status.busy": "2024-01-24T14:47:46.912246Z",
     "iopub.status.idle": "2024-01-24T14:47:47.077324Z",
     "shell.execute_reply": "2024-01-24T14:47:47.075382Z"
    },
    "papermill": {
     "duration": 0.192805,
     "end_time": "2024-01-24T14:47:47.077545",
     "exception": false,
     "start_time": "2024-01-24T14:47:46.884740",
     "status": "completed"
    },
    "tags": []
   },
   "outputs": [],
   "source": [
    "activity <- read.csv(\"../input/fitbit/Fitabase Data 4.12.16-5.12.16/dailyActivity_merged.csv\")\n",
    "steps <- read.csv(\"../input/fitbit/Fitabase Data 4.12.16-5.12.16/hourlySteps_merged.csv\")\n",
    "sleep <- read.csv(\"../input/fitbit/Fitabase Data 4.12.16-5.12.16/sleepDay_merged.csv\")"
   ]
  },
  {
   "cell_type": "markdown",
   "id": "5337d1bd",
   "metadata": {
    "papermill": {
     "duration": 0.022371,
     "end_time": "2024-01-24T14:47:47.122837",
     "exception": false,
     "start_time": "2024-01-24T14:47:47.100466",
     "status": "completed"
    },
    "tags": []
   },
   "source": [
    "I already checked the data in Google Sheets. I just need to make sure that everything were imported correctly by using View() and head() functions."
   ]
  },
  {
   "cell_type": "code",
   "execution_count": 3,
   "id": "d634ee67",
   "metadata": {
    "execution": {
     "iopub.execute_input": "2024-01-24T14:47:47.176800Z",
     "iopub.status.busy": "2024-01-24T14:47:47.173706Z",
     "iopub.status.idle": "2024-01-24T14:47:47.240928Z",
     "shell.execute_reply": "2024-01-24T14:47:47.239495Z"
    },
    "papermill": {
     "duration": 0.095914,
     "end_time": "2024-01-24T14:47:47.241118",
     "exception": false,
     "start_time": "2024-01-24T14:47:47.145204",
     "status": "completed"
    },
    "tags": []
   },
   "outputs": [
    {
     "name": "stdout",
     "output_type": "stream",
     "text": [
      "'data.frame':\t940 obs. of  15 variables:\n",
      " $ Id                      : num  1.5e+09 1.5e+09 1.5e+09 1.5e+09 1.5e+09 ...\n",
      " $ ActivityDate            : Factor w/ 31 levels \"4/12/2016\",\"4/13/2016\",..: 1 2 3 4 5 6 7 8 9 10 ...\n",
      " $ TotalSteps              : int  13162 10735 10460 9762 12669 9705 13019 15506 10544 9819 ...\n",
      " $ TotalDistance           : num  8.5 6.97 6.74 6.28 8.16 ...\n",
      " $ TrackerDistance         : num  8.5 6.97 6.74 6.28 8.16 ...\n",
      " $ LoggedActivitiesDistance: num  0 0 0 0 0 0 0 0 0 0 ...\n",
      " $ VeryActiveDistance      : num  1.88 1.57 2.44 2.14 2.71 ...\n",
      " $ ModeratelyActiveDistance: num  0.55 0.69 0.4 1.26 0.41 ...\n",
      " $ LightActiveDistance     : num  6.06 4.71 3.91 2.83 5.04 ...\n",
      " $ SedentaryActiveDistance : num  0 0 0 0 0 0 0 0 0 0 ...\n",
      " $ VeryActiveMinutes       : int  25 21 30 29 36 38 42 50 28 19 ...\n",
      " $ FairlyActiveMinutes     : int  13 19 11 34 10 20 16 31 12 8 ...\n",
      " $ LightlyActiveMinutes    : int  328 217 181 209 221 164 233 264 205 211 ...\n",
      " $ SedentaryMinutes        : int  728 776 1218 726 773 539 1149 775 818 838 ...\n",
      " $ Calories                : int  1985 1797 1776 1745 1863 1728 1921 2035 1786 1775 ...\n",
      "'data.frame':\t22099 obs. of  3 variables:\n",
      " $ Id          : num  1.5e+09 1.5e+09 1.5e+09 1.5e+09 1.5e+09 ...\n",
      " $ ActivityHour: Factor w/ 736 levels \"4/12/2016 1:00:00 AM\",..: 7 1 9 11 13 15 17 19 21 23 ...\n",
      " $ StepTotal   : int  373 160 151 0 0 0 0 0 250 1864 ...\n",
      "'data.frame':\t413 obs. of  5 variables:\n",
      " $ Id                : num  1.5e+09 1.5e+09 1.5e+09 1.5e+09 1.5e+09 ...\n",
      " $ SleepDay          : Factor w/ 31 levels \"4/12/2016 12:00:00 AM\",..: 1 2 4 5 6 8 9 10 12 13 ...\n",
      " $ TotalSleepRecords : int  1 2 1 2 1 1 1 1 1 1 ...\n",
      " $ TotalMinutesAsleep: int  327 384 412 340 700 304 360 325 361 430 ...\n",
      " $ TotalTimeInBed    : int  346 407 442 367 712 320 377 364 384 449 ...\n"
     ]
    }
   ],
   "source": [
    "str(activity)\n",
    "str(steps)\n",
    "str(sleep)"
   ]
  },
  {
   "cell_type": "markdown",
   "id": "336bb5ca",
   "metadata": {
    "papermill": {
     "duration": 0.023764,
     "end_time": "2024-01-24T14:47:47.288752",
     "exception": false,
     "start_time": "2024-01-24T14:47:47.264988",
     "status": "completed"
    },
    "tags": []
   },
   "source": []
  },
  {
   "cell_type": "code",
   "execution_count": 4,
   "id": "b01be7af",
   "metadata": {
    "execution": {
     "iopub.execute_input": "2024-01-24T14:47:47.342421Z",
     "iopub.status.busy": "2024-01-24T14:47:47.340775Z",
     "iopub.status.idle": "2024-01-24T14:47:49.655250Z",
     "shell.execute_reply": "2024-01-24T14:47:49.656000Z"
    },
    "papermill": {
     "duration": 2.34403,
     "end_time": "2024-01-24T14:47:49.656270",
     "exception": false,
     "start_time": "2024-01-24T14:47:47.312240",
     "status": "completed"
    },
    "tags": []
   },
   "outputs": [
    {
     "name": "stderr",
     "output_type": "stream",
     "text": [
      "`geom_smooth()` using method = 'loess' and formula 'y ~ x'\n",
      "\n"
     ]
    },
    {
     "data": {
      "image/png": "[encoded data removed]"
     },
     "metadata": {
      "image/png": {
       "height": 420,
       "width": 420
      }
     },
     "output_type": "display_data"
    }
   ],
   "source": [
    "ggplot(activity, aes(x=TotalSteps, y=VeryActiveDistance))+\n",
    "  geom_jitter() +\n",
    "  geom_smooth(color = \"red\") + \n",
    "  labs(title = \"Mean sedentary minutes vs Minutes asleep\", x = \"Mean sedentary minutes\", y= \"Minutes asleep\") +\n",
    "  theme(panel.background = element_blank(),\n",
    "        plot.title = element_text(size=15))"
   ]
  },
  {
   "cell_type": "markdown",
   "id": "594a3901",
   "metadata": {
    "papermill": {
     "duration": 0.028566,
     "end_time": "2024-01-24T14:47:49.714371",
     "exception": false,
     "start_time": "2024-01-24T14:47:49.685805",
     "status": "completed"
    },
    "tags": []
   },
   "source": [
    "Now that everything is ready, I can start exploring data sets.\n",
    "\n",
    "# Exploring and summarizing data"
   ]
  },
  {
   "cell_type": "markdown",
   "id": "14efd574",
   "metadata": {
    "papermill": {
     "duration": 0.027954,
     "end_time": "2024-01-24T14:47:49.769766",
     "exception": false,
     "start_time": "2024-01-24T14:47:49.741812",
     "status": "completed"
    },
    "tags": []
   },
   "source": []
  },
  {
   "cell_type": "code",
   "execution_count": null,
   "id": "11c4eae2",
   "metadata": {
    "papermill": {
     "duration": 0.027184,
     "end_time": "2024-01-24T14:47:49.824369",
     "exception": false,
     "start_time": "2024-01-24T14:47:49.797185",
     "status": "completed"
    },
    "tags": []
   },
   "outputs": [],
   "source": []
  },
  {
   "cell_type": "code",
   "execution_count": null,
   "id": "4c7040c1",
   "metadata": {
    "papermill": {
     "duration": 0.027757,
     "end_time": "2024-01-24T14:47:49.879448",
     "exception": false,
     "start_time": "2024-01-24T14:47:49.851691",
     "status": "completed"
    },
    "tags": []
   },
   "outputs": [],
   "source": []
  },
  {
   "cell_type": "markdown",
   "id": "d02bdf47",
   "metadata": {
    "papermill": {
     "duration": 0.028111,
     "end_time": "2024-01-24T14:47:49.935295",
     "exception": false,
     "start_time": "2024-01-24T14:47:49.907184",
     "status": "completed"
    },
    "tags": []
   },
   "source": [
    "This information tells us about number participants in each data sets. \n",
    "\n",
    "There is 33 participants in the activity, calories and intensities data sets, 24 in the sleep and only 8 in the weight data set. 8 participants is not significant to make any recommendations and conclusions based on this data.\n",
    "\n",
    "Let’s have a look at summary statistics of the data sets:"
   ]
  },
  {
   "cell_type": "code",
   "execution_count": null,
   "id": "654b1653",
   "metadata": {
    "papermill": {
     "duration": 0.02725,
     "end_time": "2024-01-24T14:47:49.989939",
     "exception": false,
     "start_time": "2024-01-24T14:47:49.962689",
     "status": "completed"
    },
    "tags": []
   },
   "outputs": [],
   "source": []
  },
  {
   "cell_type": "markdown",
   "id": "4da9e1fa",
   "metadata": {
    "papermill": {
     "duration": 0.027156,
     "end_time": "2024-01-24T14:47:50.044330",
     "exception": false,
     "start_time": "2024-01-24T14:47:50.017174",
     "status": "completed"
    },
    "tags": []
   },
   "source": [
    "**Some interesting discoveries from this summary:**\n",
    "\n",
    "* Average sedentary time is 991 minutes or 16 hours. Definately needs to be reduced!\n",
    "\n",
    "* The majority of the participants are lightly active.\n",
    "\n",
    "* On the average, participants sleep 1 time for 7 hours.\n",
    "\n",
    "* Average total steps per day are 7638 which a little bit less for having health benefits for according to the CDC research. They found that taking 8,000 steps per day was associated with a 51% lower risk for all-cause mortality (or death from all causes). Taking 12,000 steps per day was associated with a 65% lower risk compared with taking 4,000 steps.\n",
    "\n",
    "# Merging data\n",
    "\n",
    "Before beginning to visualize the data, I need to merge two data sets. I’m going to merge (inner join) activity and sleep on columns Id and date (that I previously created after converting data to date time format)."
   ]
  },
  {
   "cell_type": "code",
   "execution_count": null,
   "id": "9f72c080",
   "metadata": {
    "papermill": {
     "duration": 0.0272,
     "end_time": "2024-01-24T14:47:50.098717",
     "exception": false,
     "start_time": "2024-01-24T14:47:50.071517",
     "status": "completed"
    },
    "tags": []
   },
   "outputs": [],
   "source": []
  },
  {
   "cell_type": "markdown",
   "id": "ae0a8f23",
   "metadata": {
    "papermill": {
     "duration": 0.027321,
     "end_time": "2024-01-24T14:47:50.153346",
     "exception": false,
     "start_time": "2024-01-24T14:47:50.126025",
     "status": "completed"
    },
    "tags": []
   },
   "source": [
    "# Visualization"
   ]
  },
  {
   "cell_type": "code",
   "execution_count": null,
   "id": "b66bd7dc",
   "metadata": {
    "papermill": {
     "duration": 0.027469,
     "end_time": "2024-01-24T14:47:50.208150",
     "exception": false,
     "start_time": "2024-01-24T14:47:50.180681",
     "status": "completed"
    },
    "tags": []
   },
   "outputs": [],
   "source": []
  },
  {
   "cell_type": "markdown",
   "id": "4fe34f12",
   "metadata": {
    "papermill": {
     "duration": 0.027635,
     "end_time": "2024-01-24T14:47:50.263279",
     "exception": false,
     "start_time": "2024-01-24T14:47:50.235644",
     "status": "completed"
    },
    "tags": []
   },
   "source": [
    "I see positive correlation here between Total Steps and Calories, which is obvious - the more active we are, the more calories we burn."
   ]
  },
  {
   "cell_type": "code",
   "execution_count": null,
   "id": "aa3a33dc",
   "metadata": {
    "papermill": {
     "duration": 0.027329,
     "end_time": "2024-01-24T14:47:50.318152",
     "exception": false,
     "start_time": "2024-01-24T14:47:50.290823",
     "status": "completed"
    },
    "tags": []
   },
   "outputs": [],
   "source": []
  },
  {
   "cell_type": "markdown",
   "id": "e9f3607d",
   "metadata": {
    "papermill": {
     "duration": 0.027209,
     "end_time": "2024-01-24T14:47:50.372763",
     "exception": false,
     "start_time": "2024-01-24T14:47:50.345554",
     "status": "completed"
    },
    "tags": []
   },
   "source": [
    "The relationship between Total Minutes Asleep and Total Time in Bed looks linear. **So if the Bellabeat users want to improve their sleep, we should consider using notification to go to sleep.**\n",
    "\n",
    "\n",
    "Let's look at **intensities data** over time (hourly)."
   ]
  },
  {
   "cell_type": "code",
   "execution_count": null,
   "id": "dd2413fd",
   "metadata": {
    "papermill": {
     "duration": 0.027501,
     "end_time": "2024-01-24T14:47:50.427504",
     "exception": false,
     "start_time": "2024-01-24T14:47:50.400003",
     "status": "completed"
    },
    "tags": []
   },
   "outputs": [],
   "source": []
  },
  {
   "cell_type": "markdown",
   "id": "e089433e",
   "metadata": {
    "papermill": {
     "duration": 0.028074,
     "end_time": "2024-01-24T14:47:50.482990",
     "exception": false,
     "start_time": "2024-01-24T14:47:50.454916",
     "status": "completed"
    },
    "tags": []
   },
   "source": [
    "* After visualizing Total Intensity hourly, I found out that people are more active between 5 am and 10pm.\n",
    "\n",
    "* Most activity happens between 5 pm and 7 pm - I suppose, that people go to a gym or for a walk after finishing work. We can **use this time in the Bellabeat app to remind and motivate users to go for a run or walk.**\n",
    "\n",
    "Let's look at the relationship between Total Minutes Asleep and Sedentry Minutes."
   ]
  },
  {
   "cell_type": "code",
   "execution_count": null,
   "id": "b6f56e4d",
   "metadata": {
    "papermill": {
     "duration": 0.027958,
     "end_time": "2024-01-24T14:47:50.538273",
     "exception": false,
     "start_time": "2024-01-24T14:47:50.510315",
     "status": "completed"
    },
    "tags": []
   },
   "outputs": [],
   "source": []
  },
  {
   "cell_type": "markdown",
   "id": "9a71020d",
   "metadata": {
    "papermill": {
     "duration": 0.027929,
     "end_time": "2024-01-24T14:47:50.595774",
     "exception": false,
     "start_time": "2024-01-24T14:47:50.567845",
     "status": "completed"
    },
    "tags": []
   },
   "source": [
    "* Here we can clearly see the negative relationship between Sedentary Minutes and Sleep time.\n",
    "\n",
    "* As an idea: **if Bellabeat users want to improve their sleep, Bellabeat app can recommend reducing sedentary time.**\n",
    "\n",
    "* Keep in mind that we need to support this insights with more data, because correlation between some data doesn’t mean causation.\n",
    "\n",
    "\n",
    "# Summarizing recommendations for the business\n",
    "\n",
    "As we already know, collecting data on activity, sleep, stress, and reproductive health has allowed Bellabeat to empower women with knowledge about their own health and habits. Since it was founded in 2013, Bellabeat has grown rapidly and quickly positioned itself as a tech-driven wellness company for women.\n",
    "\n",
    "After analyzing FitBit Fitness Tracker Data, I found some **insights that would help influence Bellabeat marketing strategy.**\n",
    "\n",
    "![](https://images.unsplash.com/photo-1523395294292-1fbf0cd2435e?ixid=MnwxMjA3fDB8MHxwaG90by1wYWdlfHx8fGVufDB8fHx8&ixlib=rb-1.2.1&auto=format&fit=crop&w=759&q=80)\n",
    "\n",
    "**Target audience**\n",
    "\n",
    "Women who work full-time jobs (according to the hourly intensity data) and spend a lot of time at the computer/in a meeting/ focused on work they are doing (according to the sedentary time data).\n",
    "\n",
    "These women do some light activity to stay healthy (according to the activity type analysis). Even though they need to improve their everyday activity to have health benefits. They might need some knowledge about developing healthy habits or motivation to keep going. \n",
    "\n",
    "* As there is no gender information about the participants, I assumed that all genders were presented and balanced in this data set. \n",
    "\n",
    "**The key message for the Bellabeat online campaign**\n",
    "\n",
    "The Bellabeat app is not just another fitness activity app. \n",
    "It’s a guide (a friend) who empowers women to balance full personal and professional life and healthy habits and routines by educating and motivating them through daily app recommendations. \n",
    "\n",
    "**Ideas for the Bellabeat app**\n",
    "\n",
    "1. Average total steps per day are 7638 which a little bit less for having health benefits for according to the CDC research. They found that taking 8,000 steps per day was associated with a 51% lower risk for all-cause mortality (or death from all causes). Taking 12,000 steps per day was associated with a 65% lower risk compared with taking 4,000 steps. Bellabeat can encourage people to take at least 8 000 explaining the benefits for their health.\n",
    "\n",
    "2. If users want to lose weight, it’s probably a good idea to control daily calorie consumption. Bellabeat can suggest some ideas for low-calorie lunch and dinner.\n",
    "\n",
    "3. If users want to improve their sleep, Bellabeat should consider using app notifications to go to bed.\n",
    "\n",
    "4. Most activity happens between 5 pm and 7 pm - I suppose, that people go to a gym or for a walk after finishing work. Bellabeat can use this time to remind and motivate users to go for a run or walk.\n",
    "\n",
    "5. As an idea: if users want to improve their sleep, the Bellabeat app can recommend reducing sedentary time.\n",
    "\n",
    "\n",
    "**Thank you** for your interest to my Bellabeat Case Study!\n",
    "\n",
    "This is my first project using R. I would appreciate any comments and recommendations for improvement!\n"
   ]
  },
  {
   "cell_type": "markdown",
   "id": "17ef3afd",
   "metadata": {
    "papermill": {
     "duration": 0.027293,
     "end_time": "2024-01-24T14:47:50.650432",
     "exception": false,
     "start_time": "2024-01-24T14:47:50.623139",
     "status": "completed"
    },
    "tags": []
   },
   "source": []
  }
 ],
 "metadata": {
  "kaggle": {
   "accelerator": "none",
   "dataSources": [
    {
     "datasetId": 1041311,
     "sourceId": 1752235,
     "sourceType": "datasetVersion"
    }
   ],
   "dockerImageVersionId": 30099,
   "isGpuEnabled": false,
   "isInternetEnabled": false,
   "language": "r",
   "sourceType": "notebook"
  },
  "kernelspec": {
   "display_name": "R",
   "language": "R",
   "name": "ir"
  },
  "language_info": {
   "codemirror_mode": "r",
   "file_extension": ".r",
   "mimetype": "text/x-r-source",
   "name": "R",
   "pygments_lexer": "r",
   "version": "3.6.3"
  },
  "papermill": {
   "default_parameters": {},
   "duration": 9.854046,
   "end_time": "2024-01-24T14:47:51.706426",
   "environment_variables": {},
   "exception": null,
   "input_path": "__notebook__.ipynb",
   "output_path": "__notebook__.ipynb",
   "parameters": {},
   "start_time": "2024-01-24T14:47:41.852380",
   "version": "2.3.3"
  }
 },
 "nbformat": 4,
 "nbformat_minor": 5
}
